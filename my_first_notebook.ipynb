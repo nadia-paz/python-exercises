{
 "cells": [
  {
   "cell_type": "code",
   "execution_count": 1,
   "id": "ad30fe3b",
   "metadata": {},
   "outputs": [],
   "source": [
    "x = 5\n",
    "y = x * 7"
   ]
  },
  {
   "cell_type": "code",
   "execution_count": 2,
   "id": "0d1bc2ea",
   "metadata": {},
   "outputs": [
    {
     "name": "stdout",
     "output_type": "stream",
     "text": [
      "False\n"
     ]
    }
   ],
   "source": [
    "print(x > y)"
   ]
  },
  {
   "cell_type": "code",
   "execution_count": 3,
   "id": "c1d54b57",
   "metadata": {},
   "outputs": [
    {
     "name": "stdout",
     "output_type": "stream",
     "text": [
      "40\n"
     ]
    }
   ],
   "source": [
    "print (x + y)"
   ]
  },
  {
   "cell_type": "code",
   "execution_count": 4,
   "id": "5f3cea84",
   "metadata": {},
   "outputs": [
    {
     "data": {
      "text/plain": [
       "0"
      ]
     },
     "execution_count": 4,
     "metadata": {},
     "output_type": "execute_result"
    }
   ],
   "source": [
    "y % x"
   ]
  },
  {
   "cell_type": "code",
   "execution_count": 5,
   "id": "5d89a7e7",
   "metadata": {},
   "outputs": [],
   "source": [
    "y -=x"
   ]
  },
  {
   "cell_type": "code",
   "execution_count": 6,
   "id": "9ab10627",
   "metadata": {},
   "outputs": [
    {
     "data": {
      "text/plain": [
       "30"
      ]
     },
     "execution_count": 6,
     "metadata": {},
     "output_type": "execute_result"
    }
   ],
   "source": [
    "y"
   ]
  },
  {
   "cell_type": "markdown",
   "id": "4823cf3d",
   "metadata": {},
   "source": [
    "To switch the cell to code - press **Y**"
   ]
  },
  {
   "cell_type": "markdown",
   "id": "e2156030",
   "metadata": {},
   "source": [
    "Markdown cell - press **M**"
   ]
  },
  {
   "cell_type": "markdown",
   "id": "80355e6a",
   "metadata": {},
   "source": [
    "To delete cell - press **D** twice"
   ]
  },
  {
   "cell_type": "code",
   "execution_count": null,
   "id": "e9b504ba",
   "metadata": {},
   "outputs": [],
   "source": []
  }
 ],
 "metadata": {
  "kernelspec": {
   "display_name": "Python 3 (ipykernel)",
   "language": "python",
   "name": "python3"
  },
  "language_info": {
   "codemirror_mode": {
    "name": "ipython",
    "version": 3
   },
   "file_extension": ".py",
   "mimetype": "text/x-python",
   "name": "python",
   "nbconvert_exporter": "python",
   "pygments_lexer": "ipython3",
   "version": "3.9.12"
  }
 },
 "nbformat": 4,
 "nbformat_minor": 5
}
