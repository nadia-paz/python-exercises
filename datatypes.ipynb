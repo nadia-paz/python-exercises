{
 "cells": [
  {
   "cell_type": "code",
   "execution_count": 1,
   "id": "b4167f2f",
   "metadata": {},
   "outputs": [
    {
     "data": {
      "text/plain": [
       "float"
      ]
     },
     "execution_count": 1,
     "metadata": {},
     "output_type": "execute_result"
    }
   ],
   "source": [
    "type(99.9)"
   ]
  },
  {
   "cell_type": "code",
   "execution_count": 3,
   "id": "bfe6af19",
   "metadata": {},
   "outputs": [
    {
     "data": {
      "text/plain": [
       "bool"
      ]
     },
     "execution_count": 3,
     "metadata": {},
     "output_type": "execute_result"
    }
   ],
   "source": [
    "type(False)"
   ]
  },
  {
   "cell_type": "code",
   "execution_count": 4,
   "id": "d1dd73b5",
   "metadata": {},
   "outputs": [
    {
     "data": {
      "text/plain": [
       "str"
      ]
     },
     "execution_count": 4,
     "metadata": {},
     "output_type": "execute_result"
    }
   ],
   "source": [
    "type('0')"
   ]
  },
  {
   "cell_type": "code",
   "execution_count": 5,
   "id": "69e4b714",
   "metadata": {},
   "outputs": [
    {
     "data": {
      "text/plain": [
       "int"
      ]
     },
     "execution_count": 5,
     "metadata": {},
     "output_type": "execute_result"
    }
   ],
   "source": [
    "type(0)"
   ]
  },
  {
   "cell_type": "code",
   "execution_count": 6,
   "id": "b92e07a3",
   "metadata": {},
   "outputs": [
    {
     "data": {
      "text/plain": [
       "bool"
      ]
     },
     "execution_count": 6,
     "metadata": {},
     "output_type": "execute_result"
    }
   ],
   "source": [
    "type(True)"
   ]
  },
  {
   "cell_type": "code",
   "execution_count": 7,
   "id": "82551fe8",
   "metadata": {},
   "outputs": [
    {
     "data": {
      "text/plain": [
       "str"
      ]
     },
     "execution_count": 7,
     "metadata": {},
     "output_type": "execute_result"
    }
   ],
   "source": [
    "type('True')"
   ]
  },
  {
   "cell_type": "code",
   "execution_count": 8,
   "id": "47f55530",
   "metadata": {},
   "outputs": [
    {
     "data": {
      "text/plain": [
       "list"
      ]
     },
     "execution_count": 8,
     "metadata": {},
     "output_type": "execute_result"
    }
   ],
   "source": [
    "type([{}])"
   ]
  },
  {
   "cell_type": "code",
   "execution_count": 9,
   "id": "3e689914",
   "metadata": {},
   "outputs": [
    {
     "data": {
      "text/plain": [
       "dict"
      ]
     },
     "execution_count": 9,
     "metadata": {},
     "output_type": "execute_result"
    }
   ],
   "source": [
    "type({'a': []})"
   ]
  },
  {
   "cell_type": "markdown",
   "id": "a4e8a0c3",
   "metadata": {},
   "source": [
    "##### What data type would best represent:\n",
    "\n",
    "* *A term or phrase typed into a search box?* - string\n",
    "* *If a user is logged in?* - boolean\n",
    "* *A discount amount to apply to a user's shopping cart?*  - float\n",
    "* *Whether or not a coupon code is valid?* - boolean\n",
    "* *An email address typed into a registration form?* - string\n",
    "* *The price of a product?* - float\n",
    "* *A Matrix?* - list of lists?\n",
    "* *The email addresses collected from a registration form?* - list of strings\n",
    "* *Information about applicants to Codeup's data science program?* - dictionary\n"
   ]
  },
  {
   "cell_type": "markdown",
   "id": "c1ff44a8",
   "metadata": {},
   "source": [
    "``` '1' + 2 ```  error\n",
    "\n",
    "``` 6 % 4 ```  2\n",
    "\n",
    "``` type(6 % 4) ``` int // <class 'int'>\n",
    "\n",
    "```type(type(6 % 4))```  <class 'type'>\n",
    "\n",
    "```'3 + 4 is ' + 3 + 4 ``` error\n",
    "\n",
    "```0 < 0```  False\n",
    "\n",
    "```'False' == False```  False\n",
    "\n",
    "```True == 'True' ``` False\n",
    "\n",
    "```5 >= -5```  True\n",
    "\n",
    "```True or \"42\"```  True\n",
    "\n",
    "```6 % 5```  1\n",
    "\n",
    "```5 < 4 and 1 == 1```  False\n",
    "\n",
    "```'codeup' == 'codeup' and 'codeup' == 'Codeup'```  False\n",
    "\n",
    "```4 >= 0 and 1 !== '1'```  error !== is incorrect\n",
    "\n",
    "```6 % 3 == 0```  True\n",
    "\n",
    "```5 % 2 != 0```  True\n",
    "\n",
    "```[1] + 2```  error\n",
    "\n",
    "```[1] + [2]```  [1, 2]\n",
    "\n",
    "```[1] * 2```  [1, 1]\n",
    "\n",
    "```[1] * [2]```  error\n",
    "\n",
    "```[] + [] == []```  True\n",
    "\n",
    "```{} + {}``` error"
   ]
  }
 ],
 "metadata": {
  "kernelspec": {
   "display_name": "Python 3 (ipykernel)",
   "language": "python",
   "name": "python3"
  },
  "language_info": {
   "codemirror_mode": {
    "name": "ipython",
    "version": 3
   },
   "file_extension": ".py",
   "mimetype": "text/x-python",
   "name": "python",
   "nbconvert_exporter": "python",
   "pygments_lexer": "ipython3",
   "version": "3.9.12"
  }
 },
 "nbformat": 4,
 "nbformat_minor": 5
}
